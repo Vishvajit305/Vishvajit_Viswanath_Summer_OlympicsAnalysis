{
  "nbformat": 4,
  "nbformat_minor": 0,
  "metadata": {
    "colab": {
      "name": "Vishvajit_Viswanath_Summer_OlympicsAnalysis.ipynb",
      "provenance": [],
      "collapsed_sections": []
    },
    "kernelspec": {
      "name": "python3",
      "display_name": "Python 3"
    },
    "language_info": {
      "name": "python"
    },
    "accelerator": "GPU"
  },
  "cells": [
    {
      "cell_type": "code",
      "metadata": {
        "id": "Irpo_rZYk4Fh"
      },
      "source": [
        "import pandas as pd\n",
        "import matplotlib.pyplot as plt"
      ],
      "execution_count": 6,
      "outputs": []
    },
    {
      "cell_type": "code",
      "metadata": {
        "colab": {
          "base_uri": "https://localhost:8080/",
          "height": 206
        },
        "id": "fj7xMCEqlFqr",
        "outputId": "4e092a91-f2f2-469b-eb30-608560630d14"
      },
      "source": [
        "df= pd.read_csv(\"summer.csv\")\n",
        "df.head()"
      ],
      "execution_count": 7,
      "outputs": [
        {
          "output_type": "execute_result",
          "data": {
            "text/html": [
              "<div>\n",
              "<style scoped>\n",
              "    .dataframe tbody tr th:only-of-type {\n",
              "        vertical-align: middle;\n",
              "    }\n",
              "\n",
              "    .dataframe tbody tr th {\n",
              "        vertical-align: top;\n",
              "    }\n",
              "\n",
              "    .dataframe thead th {\n",
              "        text-align: right;\n",
              "    }\n",
              "</style>\n",
              "<table border=\"1\" class=\"dataframe\">\n",
              "  <thead>\n",
              "    <tr style=\"text-align: right;\">\n",
              "      <th></th>\n",
              "      <th>Year</th>\n",
              "      <th>City</th>\n",
              "      <th>Sport</th>\n",
              "      <th>Discipline</th>\n",
              "      <th>Athlete</th>\n",
              "      <th>Country</th>\n",
              "      <th>Gender</th>\n",
              "      <th>Event</th>\n",
              "      <th>Medal</th>\n",
              "    </tr>\n",
              "  </thead>\n",
              "  <tbody>\n",
              "    <tr>\n",
              "      <th>0</th>\n",
              "      <td>1896</td>\n",
              "      <td>Athens</td>\n",
              "      <td>Aquatics</td>\n",
              "      <td>Swimming</td>\n",
              "      <td>HAJOS, Alfred</td>\n",
              "      <td>HUN</td>\n",
              "      <td>Men</td>\n",
              "      <td>100M Freestyle</td>\n",
              "      <td>Gold</td>\n",
              "    </tr>\n",
              "    <tr>\n",
              "      <th>1</th>\n",
              "      <td>1896</td>\n",
              "      <td>Athens</td>\n",
              "      <td>Aquatics</td>\n",
              "      <td>Swimming</td>\n",
              "      <td>HERSCHMANN, Otto</td>\n",
              "      <td>AUT</td>\n",
              "      <td>Men</td>\n",
              "      <td>100M Freestyle</td>\n",
              "      <td>Silver</td>\n",
              "    </tr>\n",
              "    <tr>\n",
              "      <th>2</th>\n",
              "      <td>1896</td>\n",
              "      <td>Athens</td>\n",
              "      <td>Aquatics</td>\n",
              "      <td>Swimming</td>\n",
              "      <td>DRIVAS, Dimitrios</td>\n",
              "      <td>GRE</td>\n",
              "      <td>Men</td>\n",
              "      <td>100M Freestyle For Sailors</td>\n",
              "      <td>Bronze</td>\n",
              "    </tr>\n",
              "    <tr>\n",
              "      <th>3</th>\n",
              "      <td>1896</td>\n",
              "      <td>Athens</td>\n",
              "      <td>Aquatics</td>\n",
              "      <td>Swimming</td>\n",
              "      <td>MALOKINIS, Ioannis</td>\n",
              "      <td>GRE</td>\n",
              "      <td>Men</td>\n",
              "      <td>100M Freestyle For Sailors</td>\n",
              "      <td>Gold</td>\n",
              "    </tr>\n",
              "    <tr>\n",
              "      <th>4</th>\n",
              "      <td>1896</td>\n",
              "      <td>Athens</td>\n",
              "      <td>Aquatics</td>\n",
              "      <td>Swimming</td>\n",
              "      <td>CHASAPIS, Spiridon</td>\n",
              "      <td>GRE</td>\n",
              "      <td>Men</td>\n",
              "      <td>100M Freestyle For Sailors</td>\n",
              "      <td>Silver</td>\n",
              "    </tr>\n",
              "  </tbody>\n",
              "</table>\n",
              "</div>"
            ],
            "text/plain": [
              "   Year    City     Sport  ... Gender                       Event   Medal\n",
              "0  1896  Athens  Aquatics  ...    Men              100M Freestyle    Gold\n",
              "1  1896  Athens  Aquatics  ...    Men              100M Freestyle  Silver\n",
              "2  1896  Athens  Aquatics  ...    Men  100M Freestyle For Sailors  Bronze\n",
              "3  1896  Athens  Aquatics  ...    Men  100M Freestyle For Sailors    Gold\n",
              "4  1896  Athens  Aquatics  ...    Men  100M Freestyle For Sailors  Silver\n",
              "\n",
              "[5 rows x 9 columns]"
            ]
          },
          "metadata": {},
          "execution_count": 7
        }
      ]
    },
    {
      "cell_type": "markdown",
      "metadata": {
        "id": "a6RHXnHXlwf8"
      },
      "source": [
        "##Q1. In how many cities Summer Olympics is held so far?\n"
      ]
    },
    {
      "cell_type": "code",
      "metadata": {
        "colab": {
          "base_uri": "https://localhost:8080/"
        },
        "id": "0rSD1JHzlOX6",
        "outputId": "6ca181c7-f719-4c4d-f84d-03daa7bbee95"
      },
      "source": [
        "print(f\"\"\"No. of cities where Summer Olympics is held so far is: {len(df['City'].unique())}\"\"\")"
      ],
      "execution_count": 8,
      "outputs": [
        {
          "output_type": "stream",
          "name": "stdout",
          "text": [
            "No. of cities where Summer Olympics is held so far is: 22\n"
          ]
        }
      ]
    },
    {
      "cell_type": "markdown",
      "metadata": {
        "id": "AUAFdMhnsLQu"
      },
      "source": [
        "##Q2. Which sport is having most number of Gold Medals so far? (Top 5)"
      ]
    },
    {
      "cell_type": "code",
      "metadata": {
        "id": "4Eg0A1QXtUp1",
        "colab": {
          "base_uri": "https://localhost:8080/",
          "height": 303
        },
        "outputId": "406f7284-4ca1-4dd5-f4b5-6a20c1ad8654"
      },
      "source": [
        "x={}\n",
        "for i in range(len(df)):\n",
        "  if(df.iloc[i]['Medal']=='Gold'):\n",
        "    if(df.iloc[i]['Sport'] in x):\n",
        "      x[df.iloc[i]['Sport']]+=1\n",
        "    else:\n",
        "      x[df.iloc[i]['Sport']]=1\n",
        "\n",
        "sorted_x = sorted(x.items(), key=lambda kv: kv[1],reverse=True)\n",
        "l=sorted_x[:5]\n",
        "data= pd.DataFrame(l, columns=['Sport','Medal'])\n",
        "data= data.sort_values(by=\"Medal\", ascending=False).head()\n",
        "data.plot(x=\"Sport\",y=\"Medal\",kind=\"bar\",figsize=(20,5),color='Red')"
      ],
      "execution_count": 9,
      "outputs": [
        {
          "output_type": "execute_result",
          "data": {
            "text/plain": [
              "<matplotlib.axes._subplots.AxesSubplot at 0x7f13365c2290>"
            ]
          },
          "metadata": {},
          "execution_count": 9
        },
        {
          "output_type": "display_data",
          "data": {
            "image/png": "[encoded data removed]",
            "text/plain": [
              "<Figure size 1440x360 with 1 Axes>"
            ]
          },
          "metadata": {
            "needs_background": "light"
          }
        }
      ]
    },
    {
      "cell_type": "markdown",
      "metadata": {
        "id": "X-FIHSjwnNbS"
      },
      "source": [
        "##Q3. Which sport is having most number of medals so far? (Top 5)\n"
      ]
    },
    {
      "cell_type": "code",
      "metadata": {
        "colab": {
          "base_uri": "https://localhost:8080/",
          "height": 303
        },
        "id": "Nv-2_wnil85o",
        "outputId": "05e62b7c-768d-4e5d-adec-29527b2fe0ac"
      },
      "source": [
        "data=[]\n",
        "for i in df['Sport'].unique():\n",
        "  data.append(([i, len(df[df['Sport']==i])]))\n",
        "\n",
        "data= pd.DataFrame(data, columns=['Sport','Medal'])\n",
        "data= data.sort_values(by=\"Medal\", ascending=False).head()\n",
        "data.plot(x=\"Sport\",y=\"Medal\",kind=\"bar\",figsize=(20,5),color='Green')"
      ],
      "execution_count": 10,
      "outputs": [
        {
          "output_type": "execute_result",
          "data": {
            "text/plain": [
              "<matplotlib.axes._subplots.AxesSubplot at 0x7f1336536050>"
            ]
          },
          "metadata": {},
          "execution_count": 10
        },
        {
          "output_type": "display_data",
          "data": {
            "image/png": "[encoded data removed]",
            "text/plain": [
              "<Figure size 1440x360 with 1 Axes>"
            ]
          },
          "metadata": {
            "needs_background": "light"
          }
        }
      ]
    },
    {
      "cell_type": "markdown",
      "metadata": {
        "id": "sK5B3a3lsRne"
      },
      "source": [
        "##Q4. Which player has won most number of medals? (Top 5)"
      ]
    },
    {
      "cell_type": "code",
      "metadata": {
        "colab": {
          "base_uri": "https://localhost:8080/",
          "height": 459
        },
        "id": "b3954OwGmKLM",
        "outputId": "50ba7cca-e658-4f84-bdd0-418f30654ced"
      },
      "source": [
        "data=[]\n",
        "for i in df['Athlete'].unique():\n",
        "  data.append(([i, len(df[df['Athlete']==i])]))\n",
        "\n",
        "data= pd.DataFrame(data, columns=['Athlete','Medal'])\n",
        "data= data.sort_values(by=\"Medal\", ascending=False).head()\n",
        "data.plot(x=\"Athlete\",y=\"Medal\",kind=\"bar\",figsize=(5,5))"
      ],
      "execution_count": 11,
      "outputs": [
        {
          "output_type": "execute_result",
          "data": {
            "text/plain": [
              "<matplotlib.axes._subplots.AxesSubplot at 0x7f1336518bd0>"
            ]
          },
          "metadata": {},
          "execution_count": 11
        },
        {
          "output_type": "display_data",
          "data": {
            "image/png": "[encoded data removed]",
            "text/plain": [
              "<Figure size 360x360 with 1 Axes>"
            ]
          },
          "metadata": {
            "needs_background": "light"
          }
        }
      ]
    },
    {
      "cell_type": "markdown",
      "metadata": {
        "id": "GkdcTF9bs68q"
      },
      "source": [
        "##Q5. Which player has won most number Gold Medals of medals? (Top 5)"
      ]
    },
    {
      "cell_type": "code",
      "metadata": {
        "id": "yqazbNe3sQ01",
        "colab": {
          "base_uri": "https://localhost:8080/",
          "height": 324
        },
        "outputId": "1b7421fb-9fc0-4be5-d979-8ba5def773a9"
      },
      "source": [
        "x={}\n",
        "for i in range(len(df)):\n",
        "  if(df.iloc[i]['Medal']=='Gold'):\n",
        "    if(df.iloc[i]['Athlete'] in x):\n",
        "      x[df.iloc[i]['Athlete']]+=1\n",
        "    else:\n",
        "      x[df.iloc[i]['Athlete']]=1\n",
        "sorted_x = sorted(x.items(), key=lambda kv: kv[1],reverse=True)\n",
        "l=sorted_x[:5]\n",
        "\n",
        "data= pd.DataFrame(l, columns=['Athlete','Medal'])\n",
        "data= data.sort_values(by=\"Medal\", ascending=False).head()\n",
        "data.plot(x=\"Athlete\",y=\"Medal\",kind=\"bar\",figsize=(20,5),color='Pink')"
      ],
      "execution_count": 12,
      "outputs": [
        {
          "output_type": "execute_result",
          "data": {
            "text/plain": [
              "<matplotlib.axes._subplots.AxesSubplot at 0x7f1336449390>"
            ]
          },
          "metadata": {},
          "execution_count": 12
        },
        {
          "output_type": "display_data",
          "data": {
            "image/png": "[encoded data removed]",
            "text/plain": [
              "<Figure size 1440x360 with 1 Axes>"
            ]
          },
          "metadata": {
            "needs_background": "light"
          }
        }
      ]
    },
    {
      "cell_type": "markdown",
      "metadata": {
        "id": "-Tr0Q1blJHGt"
      },
      "source": [
        "##Q6. In which year India won first Gold Medal in Summer Olympics?"
      ]
    },
    {
      "cell_type": "code",
      "metadata": {
        "colab": {
          "base_uri": "https://localhost:8080/"
        },
        "id": "c_Y4VISZGF4S",
        "outputId": "3dc6d262-be57-4c00-f80e-e553973f265d"
      },
      "source": [
        "for i in range(len(df)):\n",
        "  if(df.iloc[i]['Medal']=='Gold' and df.iloc[i]['Country']=='IND'):\n",
        "    print(f\"India won first Gold Medal in Summer Olympics in the year: {df.iloc[i]['Year']}\")\n",
        "    break"
      ],
      "execution_count": 13,
      "outputs": [
        {
          "output_type": "stream",
          "name": "stdout",
          "text": [
            "India won first Gold Medal in Summer Olympics in the year: 1928\n"
          ]
        }
      ]
    },
    {
      "cell_type": "markdown",
      "metadata": {
        "id": "QVvqH60TKhkM"
      },
      "source": [
        "##Q7. Which event is most popular in terms on number of players? (Top 5)"
      ]
    },
    {
      "cell_type": "code",
      "metadata": {
        "id": "GkM08YCUX3GX",
        "colab": {
          "base_uri": "https://localhost:8080/",
          "height": 327
        },
        "outputId": "92ea6215-61c3-4088-e91f-d8484cfbb5ae"
      },
      "source": [
        "x={}\n",
        "for i in range(len(df)):\n",
        "  if(df.iloc[i]['Event'] in x):\n",
        "      x[df.iloc[i]['Event']]+=1\n",
        "  else:\n",
        "    x[df.iloc[i]['Event']]=1\n",
        "sorted_x = sorted(x.items(), key=lambda kv: kv[1],reverse=True)\n",
        "l=sorted_x[:5]\n",
        "\n",
        "data= pd.DataFrame(l, columns=['Sport','Medal'])\n",
        "data= data.sort_values(by=\"Medal\", ascending=False).head()\n",
        "data.plot(x=\"Sport\",y=\"Medal\",kind=\"bar\",figsize=(20,5))"
      ],
      "execution_count": 14,
      "outputs": [
        {
          "output_type": "execute_result",
          "data": {
            "text/plain": [
              "<matplotlib.axes._subplots.AxesSubplot at 0x7f1336441090>"
            ]
          },
          "metadata": {},
          "execution_count": 14
        },
        {
          "output_type": "display_data",
          "data": {
            "image/png": "[encoded data removed]",
            "text/plain": [
              "<Figure size 1440x360 with 1 Axes>"
            ]
          },
          "metadata": {
            "needs_background": "light"
          }
        }
      ]
    },
    {
      "cell_type": "markdown",
      "metadata": {
        "id": "kpuddkTlPgDU"
      },
      "source": [
        "##Q8. Which sport is having most female Gold Medalists? (Top 5)\n"
      ]
    },
    {
      "cell_type": "code",
      "metadata": {
        "colab": {
          "base_uri": "https://localhost:8080/",
          "height": 305
        },
        "id": "G1sG0yFjPlrN",
        "outputId": "6387b97a-9ecf-4a1c-fcf8-715797f6e3bf"
      },
      "source": [
        "x={}\n",
        "for i in range(len(df)):\n",
        "  if(df.iloc[i]['Medal']=='Gold' and df.iloc[i]['Gender']!=\"Men\"):\n",
        "    if(df.iloc[i]['Sport'] in x):\n",
        "      x[df.iloc[i]['Sport']]+=1\n",
        "    else:\n",
        "      x[df.iloc[i]['Sport']]=1\n",
        "sorted_x = sorted(x.items(), key=lambda kv: kv[1],reverse=True)\n",
        "l=sorted_x[:5]\n",
        "\n",
        "data= pd.DataFrame(l, columns=['Sport','Medal'])\n",
        "data= data.sort_values(by=\"Medal\", ascending=False).head()\n",
        "data.plot(x=\"Sport\",y=\"Medal\",kind=\"bar\",figsize=(20,5))"
      ],
      "execution_count": 18,
      "outputs": [
        {
          "output_type": "execute_result",
          "data": {
            "text/plain": [
              "<matplotlib.axes._subplots.AxesSubplot at 0x7f133610b690>"
            ]
          },
          "metadata": {},
          "execution_count": 18
        },
        {
          "output_type": "display_data",
          "data": {
            "image/png": "[encoded data removed]",
            "text/plain": [
              "<Figure size 1440x360 with 1 Axes>"
            ]
          },
          "metadata": {
            "needs_background": "light"
          }
        }
      ]
    },
    {
      "cell_type": "code",
      "metadata": {
        "id": "Ye9cIyuzsvUF"
      },
      "source": [
        ""
      ],
      "execution_count": null,
      "outputs": []
    }
  ]
}